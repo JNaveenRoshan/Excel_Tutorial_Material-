{
  "nbformat": 4,
  "nbformat_minor": 0,
  "metadata": {
    "colab": {
      "name": "data automation using python.ipynb",
      "provenance": []
    },
    "kernelspec": {
      "name": "python3",
      "display_name": "Python 3"
    },
    "language_info": {
      "name": "python"
    }
  },
  "cells": [
    {
      "cell_type": "code",
      "execution_count": null,
      "metadata": {
        "colab": {
          "base_uri": "https://localhost:8080/",
          "height": 35
        },
        "id": "RN06KvzfJeFA",
        "outputId": "37eb09c1-3cd1-413d-da87-696b8667f46d"
      },
      "outputs": [
        {
          "output_type": "execute_result",
          "data": {
            "application/vnd.google.colaboratory.intrinsic+json": {
              "type": "string"
            },
            "text/plain": [
              "'/content'"
            ]
          },
          "metadata": {},
          "execution_count": 1
        }
      ],
      "source": [
        "pwd"
      ]
    },
    {
      "cell_type": "code",
      "source": [
        "cd /content/drive/MyDrive/Colab Notebooks"
      ],
      "metadata": {
        "colab": {
          "base_uri": "https://localhost:8080/"
        },
        "id": "Aj0uZuLUJ8_y",
        "outputId": "5d6ddbc0-572f-4fe0-c1e2-61e10cddb602"
      },
      "execution_count": null,
      "outputs": [
        {
          "output_type": "stream",
          "name": "stdout",
          "text": [
            "/content/drive/MyDrive/Colab Notebooks\n"
          ]
        }
      ]
    },
    {
      "cell_type": "code",
      "source": [
        "pwd"
      ],
      "metadata": {
        "colab": {
          "base_uri": "https://localhost:8080/",
          "height": 35
        },
        "id": "-G205DhjKCG3",
        "outputId": "3cc4326e-3c60-4228-c7bb-71284e9f5de2"
      },
      "execution_count": null,
      "outputs": [
        {
          "output_type": "execute_result",
          "data": {
            "application/vnd.google.colaboratory.intrinsic+json": {
              "type": "string"
            },
            "text/plain": [
              "'/content/drive/MyDrive/Colab Notebooks'"
            ]
          },
          "metadata": {},
          "execution_count": 3
        }
      ]
    },
    {
      "cell_type": "code",
      "source": [
        "# Import packages\n",
        "from openpyxl import Workbook\n",
        "from openpyxl.worksheet.table import Table,TableStyleInfo\n",
        "\n",
        "wb=Workbook()\n",
        "ws=wb.active\n",
        "\n",
        "data= [\n",
        "       ['Finn',100,200,300,50],\n",
        "       ['Obi',1000,2000,3000,4000],\n",
        "       ['Kylo',1000,1000,2000,3000],\n",
        "       ['Han',2000,20000,50000,1000000],\n",
        "]\n",
        "\n",
        "#Adding the columns that we need\n",
        "ws.append([\"Merch\",\"2015\",\"2016\",\"2017\",\"2018\"])\n",
        "for row in data:\n",
        "  ws.append(row)\n",
        "\n",
        "tab=Table(displayName=\"table1\",ref=\"A1:E5\")\n",
        "\n",
        "# Add style\n",
        "style=TableStyleInfo(name=\"TableStyleMedium9\", showFirstColumn=False, showLastColumn=False, showRowStripes=True, showColumnStripes=True)\n",
        "tab.tableStyleInfo=style\n",
        "\n",
        "ws.add_table(tab)\n",
        "wb.save(\"merchsale.xlsx\")"
      ],
      "metadata": {
        "id": "5eaJbbV0KDpm"
      },
      "execution_count": null,
      "outputs": []
    },
    {
      "cell_type": "code",
      "source": [
        ""
      ],
      "metadata": {
        "id": "MVmkEX8-NAy8"
      },
      "execution_count": null,
      "outputs": []
    }
  ]
}